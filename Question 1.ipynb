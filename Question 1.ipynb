{
 "cells": [
  {
   "cell_type": "markdown",
   "id": "contemporary-soundtrack",
   "metadata": {},
   "source": [
    "## Problem Statement\n",
    "\n",
    "One of the first things that you find out there is a preserved bone of a creature that looks like an archaic flying dinosaur. One of the molecular evolution scientist Dr. Dwight want to extract DNA from the bone and sequence it. As you and your friends are mere students and beginners you need to prove your worth before you are allowed to help the researchers in their experiments: Dr. Dwight gives you a simple task:\n",
    "\n",
    "Dr. Dwight provides you with a simple FASTA file and asks you to find the most frequently occurring k-mer in all the sequences. A k-mer is a small subsequence of length k from the larger piece of DNA/RNA/Protein. Given a fasta file and a value of k, you need to accomplish the following:\n",
    "\n",
    "- Extract all the sequences from the given file\n",
    "- Find the most frequently occurring k-mer in all of the sequences combined (one k-mer for the whole file)\n"
   ]
  },
  {
   "cell_type": "markdown",
   "id": "parallel-continuity",
   "metadata": {},
   "source": [
    "### Inputs\n",
    "\n",
    "- k = 5\n",
    "- seq.fasta file (present in the repository)"
   ]
  },
  {
   "cell_type": "markdown",
   "id": "intended-organ",
   "metadata": {},
   "source": [
    "### Output\n",
    "\n",
    "- All kmers, split by `,`\n",
    "- Most occuring kmers"
   ]
  },
  {
   "cell_type": "markdown",
   "id": "fewer-novelty",
   "metadata": {},
   "source": [
    "## Solution\n",
    "\n",
    "We will write 3 functions:\n",
    "- One to extract the sequence from the fasta file\n",
    "- One to find kmers from the sequence\n",
    "- We can then use the `Counter` method in our third function to count and find the most frequently occuring kmer."
   ]
  },
  {
   "cell_type": "code",
   "execution_count": 1,
   "id": "descending-auckland",
   "metadata": {},
   "outputs": [],
   "source": [
    "from collections import Counter"
   ]
  },
  {
   "cell_type": "code",
   "execution_count": 2,
   "id": "light-alaska",
   "metadata": {},
   "outputs": [],
   "source": [
    "# Function to extract sequence from fasta file\n",
    "# The seq variable indicates whether a line is a sequence data or not\n",
    "#     - lines followed by '>' lines are sequences\n",
    "#     - lines followed by blank lines are not\n",
    "def extract_sequence(file_contents):\n",
    "    lines = file_contents.split()\n",
    "    res = \"\"\n",
    "    seq = False\n",
    "    for line in lines:\n",
    "        if line[0] == '>':\n",
    "            seq = True\n",
    "        elif line[0] == ' ':\n",
    "            seq = False\n",
    "        else:\n",
    "            res += line.strip()\n",
    "    return res"
   ]
  },
  {
   "cell_type": "code",
   "execution_count": 3,
   "id": "potential-abuse",
   "metadata": {},
   "outputs": [],
   "source": [
    "# Function to find k-mers in given sequence\n",
    "def find_kmers(sequence, k):\n",
    "    kmers = []\n",
    "    for i in range(0, len(sequence) - k + 1):\n",
    "        kmers.append(sequence[i: i+k])\n",
    "    return kmers"
   ]
  },
  {
   "cell_type": "code",
   "execution_count": 4,
   "id": "golden-quantum",
   "metadata": {},
   "outputs": [],
   "source": [
    "# Function to find most occuring k-mer(s)\n",
    "def most_occuring_kmers(kmers):\n",
    "    most_occuring_kmers = []\n",
    "    # Counter to count frequency of kmers\n",
    "    counts = Counter(kmers)\n",
    "    # most common prints tuples of kmers and their frequency in descending order\n",
    "    most_common_tuples = counts.most_common()\n",
    "    # the first element has the highest frequency\n",
    "    highest_freq = most_common_tuples[0][1]\n",
    "    # extract all kmers with the highest frequency\n",
    "    for kmers in most_common_tuples:\n",
    "        if kmers[1] == highest_freq:\n",
    "            most_occuring_kmers.append(kmers[0])\n",
    "    return most_occuring_kmers"
   ]
  },
  {
   "cell_type": "code",
   "execution_count": 5,
   "id": "musical-chair",
   "metadata": {},
   "outputs": [
    {
     "data": {
      "text/plain": [
       "'>WeirdOrganism\\nAGGAATATCCCATGAATTGATAGATCTGAAGATCAGTAGTTCTTCAGAATGGGGGATCTATAGACTAAAGACAGAGCATTGGATACCCTGTATTGGTAACAACCTCCGCTTTTTAATAATTAGGCTATCAACTGTAGCACAAGGATCGCATAAAGCGCCATGCCCGACCGGCAACCTAAGGATACGCGGTGGTCAAACCGCAACTACTACTGTCGGGGCATACTCGTTACTACCTACACGAAGCATGTAATCCATCGTGATGATTAGACGATATGAGAACGTTTGATCCCACACATCGCCTTCACGGCTTAAACACAGCAAATACCACTTCTGTGGGTGGTGGGACGCGAACTAAACTCTAGGCACCAACAATTCTGAAAAAGTAGCTGCACCTGCAATACTGTCCCACAACATTAACAGTACAAGAAACAAGACTGCGGTTTTTCCCTGGATCAGGGAGTGTCCCATCAAGCTAGGATGACTTGCCGCTGTGCCTGTGAGTGGTTATCTGGGCACGCCATATGTGTTGAAGTGCAGTAACGGGGTAGTATAACACTGTGGGGTGTATCGAACGCGGAGGTCCGCTCACCGCAGTACTCGAATAACGGCCAAATATCTCGGTAAACGTCTCAACGGTATGAAGCACAGTTGATTTTGGCACGATTACCCGCAACGAACGTTGGTATATGGCAATCGAGCCTTGCTCTATAGCAGATTACCAGGACCTCACGTTATGAGACTTATCTCCGAGGGAGACCTGAACTTAGACAGCGGGCTCAGGTCCCTAAACTTGGCCTAACCTCATCGATTACATCCGCCCCTTGGACATAGTGTTGAGAAGAAGCCGCCTGAGCAAACCCATCAAGAATTAATTTGGCTGTTGACAGCGATGCGCCAAGGCTCTATATCCAATGTGGTGCACTTTTTGGACTTGGTCCTTTATTATTGTGTAATTCTCCCGTCGGGAGAGTAATGTCGACTGGTTTCTCCCTTTACGGCC'"
      ]
     },
     "execution_count": 5,
     "metadata": {},
     "output_type": "execute_result"
    }
   ],
   "source": [
    "# Read the fasta file from directory and call the function\n",
    "with open(r'seq.fasta', 'r') as file:\n",
    "    file_content = file.read().strip()\n",
    "file_content"
   ]
  },
  {
   "cell_type": "code",
   "execution_count": 6,
   "id": "timely-translator",
   "metadata": {},
   "outputs": [
    {
     "data": {
      "text/plain": [
       "'AGGAATATCCCATGAATTGATAGATCTGAAGATCAGTAGTTCTTCAGAATGGGGGATCTATAGACTAAAGACAGAGCATTGGATACCCTGTATTGGTAACAACCTCCGCTTTTTAATAATTAGGCTATCAACTGTAGCACAAGGATCGCATAAAGCGCCATGCCCGACCGGCAACCTAAGGATACGCGGTGGTCAAACCGCAACTACTACTGTCGGGGCATACTCGTTACTACCTACACGAAGCATGTAATCCATCGTGATGATTAGACGATATGAGAACGTTTGATCCCACACATCGCCTTCACGGCTTAAACACAGCAAATACCACTTCTGTGGGTGGTGGGACGCGAACTAAACTCTAGGCACCAACAATTCTGAAAAAGTAGCTGCACCTGCAATACTGTCCCACAACATTAACAGTACAAGAAACAAGACTGCGGTTTTTCCCTGGATCAGGGAGTGTCCCATCAAGCTAGGATGACTTGCCGCTGTGCCTGTGAGTGGTTATCTGGGCACGCCATATGTGTTGAAGTGCAGTAACGGGGTAGTATAACACTGTGGGGTGTATCGAACGCGGAGGTCCGCTCACCGCAGTACTCGAATAACGGCCAAATATCTCGGTAAACGTCTCAACGGTATGAAGCACAGTTGATTTTGGCACGATTACCCGCAACGAACGTTGGTATATGGCAATCGAGCCTTGCTCTATAGCAGATTACCAGGACCTCACGTTATGAGACTTATCTCCGAGGGAGACCTGAACTTAGACAGCGGGCTCAGGTCCCTAAACTTGGCCTAACCTCATCGATTACATCCGCCCCTTGGACATAGTGTTGAGAAGAAGCCGCCTGAGCAAACCCATCAAGAATTAATTTGGCTGTTGACAGCGATGCGCCAAGGCTCTATATCCAATGTGGTGCACTTTTTGGACTTGGTCCTTTATTATTGTGTAATTCTCCCGTCGGGAGAGTAATGTCGACTGGTTTCTCCCTTTACGGCC'"
      ]
     },
     "execution_count": 6,
     "metadata": {},
     "output_type": "execute_result"
    }
   ],
   "source": [
    "sequence = extract_sequence(file_content)\n",
    "sequence"
   ]
  },
  {
   "cell_type": "code",
   "execution_count": 7,
   "id": "beautiful-prompt",
   "metadata": {},
   "outputs": [
    {
     "name": "stdout",
     "output_type": "stream",
     "text": [
      "{'AGAAG', 'AGCAC', 'AGGAT', 'ATACG', 'TCAGG', 'AAGAA', 'CTGGG', 'TTGGA', 'TGGAT', 'AACAA', 'GGGAC', 'CCTGG', 'GGAGT', 'TACAT', 'AACTC', 'ACACA', 'ACGCG', 'GCCTT', 'TTTTC', 'CATAT', 'CTCCG', 'CCACA', 'AAGAC', 'CCACT', 'ATCAG', 'TGGGC', 'TAACC', 'GCACA', 'AACCT', 'TCAAG', 'GCTAG', 'CTATA', 'CATTG', 'ATGAG', 'TACTG', 'ACGGT', 'AAGTA', 'AGAGT', 'AATGT', 'AGCGC', 'ATGCG', 'GTGAG', 'ACCTG', 'CTACT', 'CGAAC', 'TCGGG', 'TACGC', 'CAACG', 'CCCGA', 'AATTG', 'ACATA', 'CCATG', 'ACCAC', 'CACAG', 'TATAT', 'CTACC', 'GAAGT', 'TCCAA', 'GCCCC', 'TCACC', 'ACATT', 'GTCGG', 'TTCTG', 'AGTGC', 'TCCCA', 'AGGGA', 'CCGAG', 'CATCC', 'TGAAT', 'AGCAT', 'GAGCC', 'GGTCA', 'GGATG', 'GAGAC', 'CGTTT', 'CACTT', 'CGTTA', 'GATCT', 'ATCTA', 'CTCAT', 'CGACT', 'CATAA', 'TCGCC', 'CATGT', 'GTACA', 'TTTGG', 'TCAGA', 'TGGTA', 'CAGGG', 'GAGGT', 'ACCCA', 'AGCCT', 'TGACT', 'CCGTC', 'TTAGA', 'AGCAA', 'CGACC', 'AAAGA', 'AGAGC', 'AGTAG', 'GGGAG', 'TAGGA', 'ATAAC', 'AAGGC', 'AGGAA', 'CGGTG', 'ATTAT', 'ATAAA', 'GACCG', 'ACTCT', 'CTGCA', 'GGCCT', 'CCCTA', 'TGCGC', 'AACGG', 'TGGCC', 'TGAAA', 'TCTAT', 'CAGCG', 'GGACA', 'CCTAC', 'CACAT', 'ATTTT', 'GAATA', 'AGACG', 'TGGGT', 'CCCCT', 'TGCGG', 'AGCGA', 'CAGAG', 'CTCGT', 'GCTCT', 'TGGCT', 'TTGAA', 'GAATT', 'ATACT', 'GCATT', 'CGCGA', 'ACCAA', 'CACAA', 'TGGTC', 'TGGTT', 'CTTCA', 'TATAG', 'ACAAC', 'TTTCC', 'CTCGG', 'CCTCA', 'ATGAT', 'CATCA', 'CTAAC', 'GTCTC', 'ATTGT', 'TATCA', 'GCGGG', 'CGCAT', 'CACGC', 'AGACT', 'GATTA', 'ACTTA', 'GATAC', 'CTTAA', 'TAGAT', 'ACTTC', 'CGCTC', 'CGAGG', 'TCGAT', 'TCTCA', 'AACCC', 'GGTAT', 'AGTTG', 'TGAGA', 'AACGT', 'ACTGG', 'GACGC', 'CCTCC', 'CACCA', 'TTTAT', 'GGATA', 'CCCGT', 'CGGGA', 'GAAAA', 'AGAAT', 'GGCAC', 'TGTAA', 'ACAGA', 'TCAGT', 'GCGGA', 'CCTTT', 'TGAGT', 'TTGTG', 'TTATT', 'CAATA', 'TTACC', 'TGGCA', 'TAGTT', 'CACGA', 'GAGAG', 'TCTGT', 'ATGTG', 'CGATA', 'TGGTG', 'ACCGC', 'TGATG', 'CAGAT', 'CAGTA', 'GTGCA', 'ACACT', 'GTCCC', 'GGACG', 'TAGTA', 'TCTGG', 'GGCAT', 'TCCCG', 'TCCCT', 'GATGA', 'GACTG', 'CGTCT', 'CACCG', 'CGCCC', 'ATTAC', 'TGGGA', 'TGCCG', 'GTTAC', 'ACTAC', 'ATGAC', 'TGTGG', 'TGATT', 'AAAAA', 'AAAGC', 'GGGGG', 'ATAGC', 'ACCTA', 'GTGTA', 'TAGAC', 'TGTGC', 'GGACC', 'TTGAC', 'AGATC', 'TATGA', 'AAACA', 'CAATC', 'CCAAA', 'TGCTC', 'ATCTG', 'ACTGC', 'CCCTG', 'TCCGA', 'CCAAT', 'TTGCC', 'GAGTA', 'ACTAA', 'CGCCT', 'CCCTT', 'CTCCC', 'TTGAG', 'AATGG', 'CGGTT', 'TCCTT', 'ACCGG', 'CCTGC', 'CCAAG', 'CATGC', 'CGGCA', 'CAAGA', 'GTCCG', 'AGTGT', 'CGATT', 'CTTCT', 'AGTTC', 'GGGGC', 'CGCCA', 'ATGAA', 'GTGGT', 'AGCGG', 'CCTAA', 'CCGCC', 'CAACA', 'TCGCA', 'GTGAT', 'CCCAC', 'TACTA', 'TTCTC', 'CCCAT', 'AACGC', 'GAGCA', 'ATTAG', 'TCTAG', 'AACAT', 'GTGCC', 'TCGTT', 'CTGGT', 'TTAGG', 'TCCAT', 'GTCGA', 'CTTGG', 'GATCC', 'TACGG', 'AACAC', 'GCCTG', 'GGGTA', 'GTAAA', 'CTAAA', 'CGGCT', 'ACTCG', 'TGAAG', 'GAGAA', 'AACGA', 'TACAC', 'TAATC', 'CGGAG', 'CAATG', 'AGGTC', 'GACTA', 'AACAG', 'GTAAC', 'AAGCC', 'CAATT', 'GGTCC', 'ATGTC', 'CTGTG', 'AACTT', 'GTTTG', 'TCGTG', 'TCGGT', 'CACCT', 'TAATT', 'TGACA', 'GGTGG', 'CGCAA', 'GCAGT', 'GGGGA', 'GCAAA', 'GGGAT', 'CCAAC', 'TAGTG', 'ACGCC', 'GTACT', 'AACTG', 'TTCCC', 'TGCAA', 'CGTGA', 'GCGCC', 'CAGTT', 'AAAGT', 'TCATC', 'ACGTT', 'GAAGC', 'GTTGG', 'GGATC', 'TGGAC', 'TACAA', 'CATAG', 'CGTCG', 'GTTGA', 'TTTCT', 'CTCGA', 'AAGGA', 'AACCG', 'GGGTG', 'GTTTT', 'TCGAA', 'TTGCT', 'CTACA', 'CCGGC', 'CTTTT', 'CCTTG', 'GGCTG', 'AGCCG', 'GCTAT', 'ACCCT', 'AGACA', 'CACAC', 'TTACT', 'ATTCT', 'TTACA', 'GGCTT', 'GCACG', 'TGTTG', 'ACCAG', 'TTTTG', 'ACATC', 'GCTTT', 'CTCAG', 'TAAAG', 'AGTGG', 'TGCAG', 'TGTGT', 'ACGTC', 'GCACT', 'ACCCG', 'CGAGC', 'CAACT', 'GGCTA', 'GCCGC', 'CTGTT', 'GATAG', 'AGCTG', 'AAACG', 'GACTT', 'TCAAC', 'ATCGA', 'TTATG', 'CGCAG', 'AAGCG', 'CTAAG', 'ACACG', 'GCCAT', 'CGGGC', 'AGTAA', 'CCGCA', 'CACGT', 'GCTTA', 'TATGG', 'ACGAT', 'TTACG', 'CAGGT', 'TGTAG', 'AATAA', 'GGCTC', 'CGAAT', 'GACGA', 'AAAAG', 'AAGCT', 'GCGGT', 'GTATT', 'GCAAC', 'TGTCC', 'AGCAG', 'TTTTA', 'CGTTG', 'TAAAC', 'GCTCA', 'AGGAC', 'TAGGC', 'CATCG', 'GGTAG', 'AATAC', 'CTCAC', 'TATCT', 'TAACA', 'GGTGT', 'TTGAT', 'TCTTC', 'GAACG', 'CTTGC', 'GATAT', 'TTATC', 'CTATC', 'ACGAA', 'CGGTA', 'TTTTT', 'TTCAC', 'TAGCT', 'GAGTG', 'ATGGC', 'ACTTT', 'ATTGG', 'ATGTA', 'CCATC', 'TCAAA', 'TCGAC', 'ACTGT', 'TTTAA', 'GACCT', 'GTTTC', 'CGCGG', 'GCCCG', 'CCTTC', 'CGCTG', 'AAGTG', 'CTTAT', 'CCTGA', 'TTAAC', 'GTCCT', 'CACTG', 'TTCTT', 'TGTGA', 'GAAAC', 'CATTA', 'ACGGG', 'TATTG', 'GTTCT', 'GGTTA', 'TACCA', 'CTCTA', 'ATTGA', 'AGTAC', 'CGATG', 'GGAGA', 'ACAAT', 'AACTA', 'AGAAC', 'ATAGT', 'GCGAA', 'AATCG', 'CGGCC', 'GATCA', 'TACCC', 'GGGCA', 'GTGTT', 'ACTTG', 'GTAGT', 'GATCG', 'GTATC', 'CAAAC', 'GTAGC', 'ATCAA', 'GCATA', 'CGAAG', 'AGACC', 'TTTGA', 'CCGAC', 'ATATC', 'GGGGT', 'AGGCT', 'ACGGC', 'ACAGT', 'ATATG', 'GTGGG', 'CTCAA', 'AGAAA', 'AAACT', 'TTGGC', 'GATTT', 'TGAGC', 'ACAAG', 'TATAA', 'GAACT', 'CTGTC', 'GCGAT', 'CAAGG', 'GCCAA', 'CTGGA', 'AATTC', 'GTCAA', 'CAGCA', 'AAATA', 'TTTAC', 'TAATA', 'CTTAG', 'AATCC', 'GAATG', 'CAACC', 'TCTCC', 'AAGAT', 'ATAAT', 'ATTAA', 'GTATA', 'TGGGG', 'CAGAA', 'GCTGT', 'CAGGA', 'TGTCG', 'TACCT', 'TTAAT', 'ATGGG', 'TACTC', 'CCGCT', 'CTGAG', 'TCTGA', 'AATTT', 'GACAT', 'TGAAC', 'CAAAT', 'CCATA', 'TGTAT', 'GTATG', 'AAACC', 'TATCG', 'AGCTA', 'GTTAT', 'CGCTT', 'TGATA', 'GCCTA', 'CCTGT', 'GCATG', 'ATTTG', 'ATCCA', 'GTGTC', 'GGCAA', 'TAAGG', 'CAAGC', 'TAGCA', 'AGATT', 'ATGCC', 'CATAC', 'TGCCC', 'GGCCA', 'GGTGC', 'CTGCG', 'ACAGC', 'TGCCT', 'GAAGA', 'GGTAA', 'AAGCA', 'ACCTC', 'CGGGG', 'TATGT', 'CTGAA', 'ATAGA', 'TCTCG', 'AGGCA', 'GTAAT', 'TAACG', 'GGGCT', 'ATCCG', 'GCAGA', 'AGTAT', 'CTAGG', 'TATTA', 'ATCTC', 'CTTTA', 'TCACG', 'GAGGG', 'ATCGT', 'CCCGC', 'ATCCC', 'CATGA', 'AATTA', 'TGATC', 'CTGTA', 'TTAAA', 'AATAT', 'TCCGC', 'TTCAG', 'TTGGT', 'TCGAG', 'ATCGC', 'GATGC', 'GCAAT', 'GGAGG', 'GGACT', 'GCACC', 'TGCAC', 'GACAG', 'TAATG', 'CCAGG', 'CACGG', 'GGTTT', 'ATACC', 'TATCC', 'GCTGC', 'GGAAT'}\n"
     ]
    }
   ],
   "source": [
    "# The set function is used to make sure that only unique kmers are returned\n",
    "kmers = find_kmers(sequence, 5)\n",
    "print(set(kmers))"
   ]
  },
  {
   "cell_type": "code",
   "execution_count": 8,
   "id": "hundred-there",
   "metadata": {},
   "outputs": [
    {
     "name": "stdout",
     "output_type": "stream",
     "text": [
      "The most occuring kmers are:  ['TCCCA', 'CAGTA', 'ACTGT', 'GTGGT', 'GATTA', 'TAAAC', 'CTGTG', 'GTTGA']\n"
     ]
    }
   ],
   "source": [
    "freq_kmers = most_occuring_kmers(kmers)\n",
    "print(\"The most occuring kmers are: \", freq_kmers)"
   ]
  }
 ],
 "metadata": {
  "kernelspec": {
   "display_name": "Python 3",
   "language": "python",
   "name": "python3"
  },
  "language_info": {
   "codemirror_mode": {
    "name": "ipython",
    "version": 3
   },
   "file_extension": ".py",
   "mimetype": "text/x-python",
   "name": "python",
   "nbconvert_exporter": "python",
   "pygments_lexer": "ipython3",
   "version": "3.8.3"
  }
 },
 "nbformat": 4,
 "nbformat_minor": 5
}
