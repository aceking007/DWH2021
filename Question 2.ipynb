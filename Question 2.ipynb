{
 "cells": [
  {
   "cell_type": "markdown",
   "id": "requested-toolbox",
   "metadata": {},
   "source": [
    "## Problem\n",
    "\n",
    "A little while later you stumble upon a population of wild rabbits of different colour that fascinates Dr. Michael, the population geneticist. He is fascinated by the colours ranging from blue to red. He has a task in mind but as with Dr. Dwight, he doubts whether you can solve the task, so he wants to test you on your knowledge of Mendel’s Laws and probability. He asks the following question:\n",
    "\n",
    "Suppose we have a single ancestor with the genotype AaBb in the 0th generation. The ancestor mates with another individual with genotype AaBb to produce offsprings. In the first generation the ancestor has 2 children. At each generation, a successor organism mates with a foreign individual with genotype AaBb to produce 2 children.\n",
    "\n",
    "Given two positive integers k and N, return the probability that at least N AaBb organisms will belong to the k-th generation of the family tree (don’t count the AaBb foreign mates at each level).\n",
    "\n",
    "Assume Mendel’s second law (independent assortment) holds for the factors. (You can try out simulating the family tree for a challenge or apply biology knowledge from your core years and basic probability to come up with a simpler solution!)"
   ]
  },
  {
   "cell_type": "markdown",
   "id": "daily-diesel",
   "metadata": {},
   "source": [
    "### Sample Input\n",
    "- k = 2 \n",
    "- N = 1\n",
    "\n",
    "### Sample Output\n",
    "0.684"
   ]
  },
  {
   "cell_type": "markdown",
   "id": "political-organic",
   "metadata": {},
   "source": [
    "## Solution\n",
    "\n",
    "The simulation will obviously crash your computer for a fairly reasonable number. Thus, we need to find some way to avoid the simulation method. We will instead try to find a pattern and figure out how to model the question mathematically.\n",
    "\n",
    "Let's first understand modeling the mating process.  "
   ]
  },
  {
   "cell_type": "markdown",
   "id": "african-strip",
   "metadata": {},
   "source": [
    "Let us assume we have two heterozygous organisms with genotypes `Aa Bb`. Independent assortment implies that the probability of an `aa BB` offspring is equal to $Pr(aa) × Pr(BB) = \\frac{1}{4} × \\frac{1}{4} = \\frac{1}{16}$. The value $\\frac{1}{4}$ comes from the fact that the probability of any offspring of this subtype (`AA`, `Aa`, or `aa` - same for `BB`, `Bb`, and `bb`) is equally likely from the crossing. \n",
    "\n",
    "Here is a cross to demonstrate the probabilities for each genotype after a single mating event (Parents: `AaBb` X `AaBb`):\n",
    "\n",
    "|\t|AB|\tAb|\taB|\tab|\n",
    "|:--:|:--:|:--:|:--:|:--:|\n",
    "|<b>AB</b>|\tAA BB|\tAA Bb|\tAa Bb|\tAa Bb|\n",
    "|<b>Ab</b>|\tAA bB|\tAA bb|\tAa bB|\tAa bb|\n",
    "|<b>aB</b>|\taA BB|\taA Bb|\taa BB|\taa Bb|\n",
    "|<b>ab</b>|\taA bB|\taA bb|\taa bB|\taa bb|\n",
    "\n",
    "**Note**: \n",
    "- Whatever maybe the genotype of the parent, they are bound to produce gametes belonging to one (or more) of the four types: `AB`, `Ab`, `aB`, `ab`\n",
    "- Also, each row and column in the table above has exactly 1 `AaBb` individual. Thus, the probability of an `AaBb` individual in a given row is $\\frac{1}{4}$\n",
    "\n",
    "At each generation we mate the individuals with a foreign individual having the genotype `AaBb`. Thus, one of the axis of the matrix (row or column in the table above) is always fixed - `AB Ab aB ab`.  \n",
    "\n",
    "From this and the *note* above we can deduce that irrespective of the genotype of the individual mating with the foreign individual - the probability of getting the genotype `AaBb` from any mating event is $\\frac{1}{4}$"
   ]
  },
  {
   "cell_type": "markdown",
   "id": "median-commodity",
   "metadata": {},
   "source": [
    "To solve the question presented, we have to compute the probability to observe at least $N$ `Aa Bb` offsprings after $k$ generations.   \n",
    "We first need to compute the probability to observe $N$ `Aa Bb` offsprings after $k$ generations.  \n",
    "As the probability of getting `AaBb` individuals is fixed, we can treat each mating event as a *Bernoulli trial*, where, the probability of success (getting `AaBb` individual) is $\\frac{1}{4}$. The number of such trials for $k$-th generation will be $2^{k}$ (the total number of mating events in generation $k$). Hence, Probability of getting $N$ `AaBb` individuals in generation $k$:\n",
    "$$Pr(N,k) = (^{2^{k}}_N)(\\frac{1}{4})^{N}( 1−\\frac{1}{4} ) ^{2^{k}−N}$$\n",
    "which we recognize as the probability mass function of a random variable that follows a Binomial distribution $B(n,p)$, with $n = 2^{k}$ and $p = \\frac{1}{4}$.   \n",
    "Now, we need to find the probability that at least N such organisms will belong to the k-th generation, which is given by:  \n",
    "$$1 − \\sum_{x=0}^{N-1}Pr(X=x)$$  \n",
    "where, $X$ is a random variable denoting the number of offspring, that is one minus all the cases $Pr(X≠N)$."
   ]
  },
  {
   "cell_type": "markdown",
   "id": "editorial-bridge",
   "metadata": {},
   "source": [
    "So we need to write functions combining both the equations above.  \n",
    "One function will be to calculate the probability of $N$ individuals in generation $k$. The other function will call the first function and return the cumulative probability as mentioned above."
   ]
  },
  {
   "cell_type": "code",
   "execution_count": 1,
   "id": "found-survival",
   "metadata": {},
   "outputs": [],
   "source": [
    "from math import factorial as fac"
   ]
  },
  {
   "cell_type": "code",
   "execution_count": 2,
   "id": "external-feedback",
   "metadata": {},
   "outputs": [],
   "source": [
    "# Function to calculate binomial coefficient\n",
    "def binomial_coefficient(n, r):\n",
    "    try:\n",
    "        return fac(n) // fac(r) // fac(n - r)\n",
    "    # When r > n\n",
    "    except ValueError:\n",
    "        return 0"
   ]
  },
  {
   "cell_type": "code",
   "execution_count": 3,
   "id": "ancient-louisville",
   "metadata": {},
   "outputs": [],
   "source": [
    "# Function to calculate probability of n individuals in k-th generation\n",
    "def bernoulli_trials(n, k):\n",
    "    return binomial_coefficient(2**k, n) * 0.25**n * 0.75**(2**k - n)"
   ]
  },
  {
   "cell_type": "code",
   "execution_count": 4,
   "id": "individual-dialogue",
   "metadata": {},
   "outputs": [],
   "source": [
    "# Function to calculate the final probability\n",
    "def final_probability(k, N):\n",
    "    return 1 - sum(bernoulli_trials(n, k) for n in range(N))"
   ]
  },
  {
   "cell_type": "code",
   "execution_count": 5,
   "id": "wrapped-operator",
   "metadata": {},
   "outputs": [
    {
     "data": {
      "text/plain": [
       "0.68359375"
      ]
     },
     "execution_count": 5,
     "metadata": {},
     "output_type": "execute_result"
    }
   ],
   "source": [
    "final_probability(2, 1)"
   ]
  }
 ],
 "metadata": {
  "kernelspec": {
   "display_name": "Python 3",
   "language": "python",
   "name": "python3"
  },
  "language_info": {
   "codemirror_mode": {
    "name": "ipython",
    "version": 3
   },
   "file_extension": ".py",
   "mimetype": "text/x-python",
   "name": "python",
   "nbconvert_exporter": "python",
   "pygments_lexer": "ipython3",
   "version": "3.8.3"
  }
 },
 "nbformat": 4,
 "nbformat_minor": 5
}
