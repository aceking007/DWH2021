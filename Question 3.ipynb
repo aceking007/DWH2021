{
 "cells": [
  {
   "cell_type": "markdown",
   "id": "tropical-permit",
   "metadata": {},
   "source": [
    "## Problem\n",
    "\n",
    "After submitting a satisfactory program that can calculate the probabilities as mentioned in the question, Dr. Michael tells you about the original task that he had in his mind:\n",
    "\n",
    "Dr. Michael with his advanced genotype detector, has detected the genotypes of a few of the colorful rabbits for a locus that he presumes determines the colour of the rabbits. Using this knowledge he has planned out a breeding experiment with several pedigree trees depicting the mating lines.\n",
    "\n",
    "The experiment is as follows. First, $2^N$ individuals with known genotypes are grouped into $2^{N-1}$ groups of 2. Each group has one progeny. This is repeated. Thus every generation, the number of individuals reduce by a factor of 2. At the end of N generations, one individual remains.\n",
    "\n",
    "Dr. Micheal wants you to write a program which is able to predict the probability of the last individual of this epic lineage to be `CC` `cc` and `cC/Cc`."
   ]
  },
  {
   "cell_type": "markdown",
   "id": "refined-firmware",
   "metadata": {},
   "source": [
    "### Input\n",
    "Input will be $N$ and a list of $2^N$ initial individual genotypes. Groups are to be made with consecutive members.\n",
    "- N = 2\n",
    "- `cc` `cc` `cc` `cc`\n",
    "\n",
    "### Output\n",
    "3 numbers displaying the probabilities of last individual being `CC` `cc` and `cC/Cc`.\n",
    "- `0 1 0`"
   ]
  },
  {
   "cell_type": "markdown",
   "id": "monthly-tenant",
   "metadata": {},
   "source": [
    "## Solution\n",
    "\n",
    "A little bit of calculation would make the question a lot easier.  \n",
    "We need a function that can give us the definitive probability of the child given the probabilities of both its parents.  \n",
    "Then we need to calculate the probability over and over again till we reach the end of the line.\n",
    "\n",
    "So first we need to derive a formula for the probability of the child."
   ]
  },
  {
   "cell_type": "markdown",
   "id": "decent-championship",
   "metadata": {},
   "source": [
    "Let us assume that parent `A` has genotype probabilities - `x`, `y`, `z` for `CC`, `Cc`, and `cc` respectively. Similarly, parent `B` has genotype probabilities - `a`, `b`, and `c`.\n",
    "\n",
    "Let the probabilities `p`, `q`, and `r` be the probabilities for genotypes `CC`, `Cc`, and `cc` of the child.  \n",
    "The probability of getting genotype `CC` in the child consists of 3 terms.  \n",
    "- `xa` as the cross between two `CC`s always produces `CC`\n",
    "- `0.25yb` as the cross between two `Cc`s produces `CC` with probability 0.25\n",
    "- `0.5(xb + ya)` as the cross between a `Cc` and `CC` or a `CC` and `Cc`\n",
    "\n",
    "Thus, `p = xa + 0.5(xb + ya) + 0.25yb`\n",
    "\n",
    "Similarly,  \n",
    "- `r = zc + 0.5(zb + cy) + 0.25yb`\n",
    "\n",
    "As for the probability of genotype `Cc`, it will also have 2 parts\n",
    "- `xc + za` as the cross between `CC` and `cc` always produces `Cc`\n",
    "- `0.5(xb + ya + yc + bz + yb)` as crosses `CC-Cc`, `cc-Cc`, `Cc-CC`, `Cc-cc`, and `Cc-Cc` produce `Cc` half of the times\n",
    "\n",
    "Thus, `q = xc + za + 0.5(xb + ya + yc + bz + yb)`\n",
    "\n",
    "Now, we need to do just translate the equation to python which is really really easy.  \n",
    "And finally, we need to write a function that pairs up all the individuals and calls the probability function on it."
   ]
  },
  {
   "cell_type": "code",
   "execution_count": 1,
   "id": "sought-arbor",
   "metadata": {},
   "outputs": [],
   "source": [
    "# Function to calculate genotype of child based on parents\n",
    "def child_prob(a,b):\n",
    "    AA = a[0]*b[0] + 0.5*(a[0]*b[1] + a[1]*b[0] + 0.5*a[1]*b[1])\n",
    "    Aa = a[0]*b[2] + a[2]*b[0] + 0.5*(a[0]*b[1] + a[1]*b[0] + a[1]*b[1] + a[2]*b[1] + a[1]*b[2])\n",
    "    aa = a[2]*b[2] + 0.5*(a[1]*b[2] + a[2]*b[1] + 0.5*a[1]*b[1])\n",
    "    return [AA,Aa,aa]"
   ]
  },
  {
   "cell_type": "code",
   "execution_count": 2,
   "id": "parallel-architect",
   "metadata": {},
   "outputs": [],
   "source": [
    "# Function to convert initial categorical genotypes to numerical genotypes\n",
    "def convert_genotype(list_of_genotypes):\n",
    "    res = []\n",
    "    for genotype in list_of_genotypes:\n",
    "        if genotype == 'CC':\n",
    "            res.append([1, 0, 0])\n",
    "        elif genotype == 'Cc':\n",
    "            res.append([0, 1, 0])\n",
    "        elif genotype == 'cc':\n",
    "            res.append([0, 0, 1])\n",
    "    return res"
   ]
  },
  {
   "cell_type": "code",
   "execution_count": 3,
   "id": "structural-disability",
   "metadata": {},
   "outputs": [],
   "source": [
    "# Function to generate progeny\n",
    "def predict_genotype(N, list_of_genotypes):\n",
    "    genotypes = convert_genotype(list_of_genotypes)\n",
    "    for i in range(N):\n",
    "        new_genotypes = []\n",
    "        for j in range(0, len(genotypes), 2):\n",
    "            new_genotypes.append(child_prob(genotypes[j], genotypes[j+1]))\n",
    "        genotypes = new_genotypes.copy()\n",
    "    return genotypes[0]"
   ]
  },
  {
   "cell_type": "code",
   "execution_count": 4,
   "id": "brutal-camera",
   "metadata": {},
   "outputs": [
    {
     "data": {
      "text/plain": [
       "[0.375, 0.5, 0.125]"
      ]
     },
     "execution_count": 4,
     "metadata": {},
     "output_type": "execute_result"
    }
   ],
   "source": [
    "predict_genotype(2, ['CC', 'cc', 'Cc', 'CC'])"
   ]
  }
 ],
 "metadata": {
  "kernelspec": {
   "display_name": "Python 3",
   "language": "python",
   "name": "python3"
  },
  "language_info": {
   "codemirror_mode": {
    "name": "ipython",
    "version": 3
   },
   "file_extension": ".py",
   "mimetype": "text/x-python",
   "name": "python",
   "nbconvert_exporter": "python",
   "pygments_lexer": "ipython3",
   "version": "3.8.3"
  }
 },
 "nbformat": 4,
 "nbformat_minor": 5
}
